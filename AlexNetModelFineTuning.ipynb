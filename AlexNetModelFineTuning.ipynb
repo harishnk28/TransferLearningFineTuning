{
  "nbformat": 4,
  "nbformat_minor": 0,
  "metadata": {
    "colab": {
      "name": "Untitled44.ipynb",
      "provenance": [],
      "collapsed_sections": [],
      "authorship_tag": "ABX9TyNRf6CckcK3IMpEdpMXkick",
      "include_colab_link": true
    },
    "kernelspec": {
      "name": "python3",
      "display_name": "Python 3"
    },
    "language_info": {
      "name": "python"
    },
    "accelerator": "GPU"
  },
  "cells": [
    {
      "cell_type": "markdown",
      "metadata": {
        "id": "view-in-github",
        "colab_type": "text"
      },
      "source": [
        "<a href=\"https://colab.research.google.com/github/harishnk28/TransferLearningFineTuning/blob/main/AlexNetModelFineTuning.ipynb\" target=\"_parent\"><img src=\"https://colab.research.google.com/assets/colab-badge.svg\" alt=\"Open In Colab\"/></a>"
      ]
    },
    {
      "cell_type": "markdown",
      "metadata": {
        "id": "aOxAqE86nGuQ"
      },
      "source": [
        "# Implement the ALEXNET model using transfer learning concepts such as ConvNet as fixed feature extractor, Fine-tuning the ConvNet., Pretrained. Select one model from above 3 using following conditions : \n",
        "\n",
        "Fine-Tuning for the Large dataset and similar to original dataset "
      ]
    },
    {
      "cell_type": "code",
      "metadata": {
        "colab": {
          "base_uri": "https://localhost:8080/"
        },
        "id": "gvbD-60dF-UI",
        "outputId": "e0fa11a5-acaf-40b0-fd94-5ccf85f00596"
      },
      "source": [
        "#Keras library for CIFAR dataset\n",
        "from keras.datasets import cifar10\n",
        "\n",
        "(x_train, y_train),(x_test, y_test)=cifar10.load_data()\n",
        "\n",
        "#Train-validation-test split\n",
        "from sklearn.model_selection import train_test_split\n",
        "x_train,x_val,y_train,y_val=train_test_split(x_train,y_train,test_size=.3)\n",
        "\n",
        "#Dimension of the CIFAR10 dataset\n",
        "print((x_train.shape,y_train.shape))\n",
        "print((x_val.shape,y_val.shape))\n",
        "print((x_test.shape,y_test.shape))\n",
        "\n",
        "#Onehot Encoding the labels.\n",
        "from sklearn.utils.multiclass import unique_labels\n",
        "from keras.utils import to_categorical\n",
        "\n",
        "#Since we have 10 classes we should expect the shape[1] of y_train,y_val and y_test to change from 1 to 10\n",
        "y_train=to_categorical(y_train)\n",
        "y_val=to_categorical(y_val)\n",
        "y_test=to_categorical(y_test)\n",
        "\n",
        "#Verifying the dimension after one hot encoding\n",
        "print((x_train.shape,y_train.shape))\n",
        "print((x_val.shape,y_val.shape))\n",
        "print((x_test.shape,y_test.shape))\n",
        "\n",
        "#Image Data Augmentation\n",
        "from keras.preprocessing.image import ImageDataGenerator\n",
        "\n",
        "train_generator = ImageDataGenerator(rotation_range=2, horizontal_flip=True,zoom_range=.1 )\n",
        "\n",
        "val_generator = ImageDataGenerator(rotation_range=2, horizontal_flip=True,zoom_range=.1)\n",
        "\n",
        "test_generator = ImageDataGenerator(rotation_range=2, horizontal_flip= True,zoom_range=.1)\n",
        "\n",
        "#Fitting the augmentation defined above to the data\n",
        "train_generator.fit(x_train)\n",
        "val_generator.fit(x_val)\n",
        "test_generator.fit(x_test)"
      ],
      "execution_count": null,
      "outputs": [
        {
          "output_type": "stream",
          "text": [
            "Downloading data from https://www.cs.toronto.edu/~kriz/cifar-10-python.tar.gz\n",
            "170500096/170498071 [==============================] - 2s 0us/step\n",
            "((35000, 32, 32, 3), (35000, 1))\n",
            "((15000, 32, 32, 3), (15000, 1))\n",
            "((10000, 32, 32, 3), (10000, 1))\n",
            "((35000, 32, 32, 3), (35000, 10))\n",
            "((15000, 32, 32, 3), (15000, 10))\n",
            "((10000, 32, 32, 3), (10000, 10))\n"
          ],
          "name": "stdout"
        }
      ]
    },
    {
      "cell_type": "code",
      "metadata": {
        "id": "tt6zkm6CJCRs"
      },
      "source": [
        "#Defining the parameters\n",
        "batch_size= 100\n",
        "epochs=10\n",
        "learn_rate=.001"
      ],
      "execution_count": null,
      "outputs": []
    },
    {
      "cell_type": "code",
      "metadata": {
        "colab": {
          "base_uri": "https://localhost:8080/"
        },
        "id": "jg3rEESSJZRc",
        "outputId": "40d8b64f-8b8c-4ab1-8001-8b82986c2bf1"
      },
      "source": [
        "#Importing library\n",
        "import keras\n",
        "from keras.models import Sequential\n",
        "from keras.layers import Dense, Activation, Dropout, Flatten, Conv2D, MaxPooling2D\n",
        "from keras.layers.normalization import BatchNormalization\n",
        "import numpy as np\n",
        "\n",
        "np.random.seed(1000)\n",
        "\n",
        "#Instantiation\n",
        "AlexNet = Sequential()\n",
        "\n",
        "#1st Convolutional Layer\n",
        "AlexNet.add(Conv2D(filters=96, input_shape=(32,32,3), kernel_size=(11,11), strides=(4,4), padding='same'))\n",
        "AlexNet.add(BatchNormalization())\n",
        "AlexNet.add(Activation('relu'))\n",
        "AlexNet.add(MaxPooling2D(pool_size=(2,2), strides=(2,2), padding='same'))\n",
        "\n",
        "#2nd Convolutional Layer\n",
        "AlexNet.add(Conv2D(filters=256, kernel_size=(5, 5), strides=(1,1), padding='same'))\n",
        "AlexNet.add(BatchNormalization())\n",
        "AlexNet.add(Activation('relu'))\n",
        "AlexNet.add(MaxPooling2D(pool_size=(2,2), strides=(2,2), padding='same'))\n",
        "\n",
        "#3rd Convolutional Layer\n",
        "AlexNet.add(Conv2D(filters=384, kernel_size=(3,3), strides=(1,1), padding='same'))\n",
        "AlexNet.add(BatchNormalization())\n",
        "AlexNet.add(Activation('relu'))\n",
        "\n",
        "#4th Convolutional Layer\n",
        "AlexNet.add(Conv2D(filters=384, kernel_size=(3,3), strides=(1,1), padding='same'))\n",
        "AlexNet.add(BatchNormalization())\n",
        "AlexNet.add(Activation('relu'))\n",
        "\n",
        "#5th Convolutional Layer\n",
        "AlexNet.add(Conv2D(filters=256, kernel_size=(3,3), strides=(1,1), padding='same'))\n",
        "AlexNet.add(BatchNormalization())\n",
        "AlexNet.add(Activation('relu'))\n",
        "AlexNet.add(MaxPooling2D(pool_size=(2,2), strides=(2,2), padding='same'))\n",
        "\n",
        "#Passing it to a Fully Connected layer\n",
        "AlexNet.add(Flatten())\n",
        "# 1st Fully Connected Layer\n",
        "AlexNet.add(Dense(4096, input_shape=(32,32,3,)))\n",
        "AlexNet.add(BatchNormalization())\n",
        "AlexNet.add(Activation('relu'))\n",
        "# Add Dropout to prevent overfitting\n",
        "AlexNet.add(Dropout(0.4))\n",
        "\n",
        "#2nd Fully Connected Layer\n",
        "AlexNet.add(Dense(4096))\n",
        "AlexNet.add(BatchNormalization())\n",
        "AlexNet.add(Activation('relu'))\n",
        "#Add Dropout\n",
        "AlexNet.add(Dropout(0.4))\n",
        "\n",
        "#3rd Fully Connected Layer\n",
        "AlexNet.add(Dense(1000))\n",
        "AlexNet.add(BatchNormalization())\n",
        "AlexNet.add(Activation('relu'))\n",
        "#Add Dropout\n",
        "AlexNet.add(Dropout(0.4))\n",
        "\n",
        "#Output Layer\n",
        "AlexNet.add(Dense(10))\n",
        "AlexNet.add(BatchNormalization())\n",
        "AlexNet.add(Activation('softmax'))\n",
        "\n",
        "#Model Summary\n",
        "AlexNet.summary()"
      ],
      "execution_count": null,
      "outputs": [
        {
          "output_type": "stream",
          "text": [
            "Model: \"sequential\"\n",
            "_________________________________________________________________\n",
            "Layer (type)                 Output Shape              Param #   \n",
            "=================================================================\n",
            "conv2d_4 (Conv2D)            (None, 8, 8, 96)          34944     \n",
            "_________________________________________________________________\n",
            "batch_normalization_4 (Batch (None, 8, 8, 96)          384       \n",
            "_________________________________________________________________\n",
            "activation (Activation)      (None, 8, 8, 96)          0         \n",
            "_________________________________________________________________\n",
            "max_pooling2d (MaxPooling2D) (None, 4, 4, 96)          0         \n",
            "_________________________________________________________________\n",
            "conv2d_5 (Conv2D)            (None, 4, 4, 256)         614656    \n",
            "_________________________________________________________________\n",
            "batch_normalization_5 (Batch (None, 4, 4, 256)         1024      \n",
            "_________________________________________________________________\n",
            "activation_1 (Activation)    (None, 4, 4, 256)         0         \n",
            "_________________________________________________________________\n",
            "max_pooling2d_1 (MaxPooling2 (None, 2, 2, 256)         0         \n",
            "_________________________________________________________________\n",
            "conv2d_6 (Conv2D)            (None, 2, 2, 384)         885120    \n",
            "_________________________________________________________________\n",
            "batch_normalization_6 (Batch (None, 2, 2, 384)         1536      \n",
            "_________________________________________________________________\n",
            "activation_2 (Activation)    (None, 2, 2, 384)         0         \n",
            "_________________________________________________________________\n",
            "conv2d_7 (Conv2D)            (None, 2, 2, 384)         1327488   \n",
            "_________________________________________________________________\n",
            "batch_normalization_7 (Batch (None, 2, 2, 384)         1536      \n",
            "_________________________________________________________________\n",
            "activation_3 (Activation)    (None, 2, 2, 384)         0         \n",
            "_________________________________________________________________\n",
            "conv2d_8 (Conv2D)            (None, 2, 2, 256)         884992    \n",
            "_________________________________________________________________\n",
            "batch_normalization_8 (Batch (None, 2, 2, 256)         1024      \n",
            "_________________________________________________________________\n",
            "activation_4 (Activation)    (None, 2, 2, 256)         0         \n",
            "_________________________________________________________________\n",
            "max_pooling2d_2 (MaxPooling2 (None, 1, 1, 256)         0         \n",
            "_________________________________________________________________\n",
            "flatten (Flatten)            (None, 256)               0         \n",
            "_________________________________________________________________\n",
            "dense_1 (Dense)              (None, 4096)              1052672   \n",
            "_________________________________________________________________\n",
            "batch_normalization_9 (Batch (None, 4096)              16384     \n",
            "_________________________________________________________________\n",
            "activation_5 (Activation)    (None, 4096)              0         \n",
            "_________________________________________________________________\n",
            "dropout (Dropout)            (None, 4096)              0         \n",
            "_________________________________________________________________\n",
            "dense_2 (Dense)              (None, 4096)              16781312  \n",
            "_________________________________________________________________\n",
            "batch_normalization_10 (Batc (None, 4096)              16384     \n",
            "_________________________________________________________________\n",
            "activation_6 (Activation)    (None, 4096)              0         \n",
            "_________________________________________________________________\n",
            "dropout_1 (Dropout)          (None, 4096)              0         \n",
            "_________________________________________________________________\n",
            "dense_3 (Dense)              (None, 1000)              4097000   \n",
            "_________________________________________________________________\n",
            "batch_normalization_11 (Batc (None, 1000)              4000      \n",
            "_________________________________________________________________\n",
            "activation_7 (Activation)    (None, 1000)              0         \n",
            "_________________________________________________________________\n",
            "dropout_2 (Dropout)          (None, 1000)              0         \n",
            "_________________________________________________________________\n",
            "dense_4 (Dense)              (None, 10)                10010     \n",
            "_________________________________________________________________\n",
            "batch_normalization_12 (Batc (None, 10)                40        \n",
            "_________________________________________________________________\n",
            "activation_8 (Activation)    (None, 10)                0         \n",
            "=================================================================\n",
            "Total params: 25,730,506\n",
            "Trainable params: 25,709,350\n",
            "Non-trainable params: 21,156\n",
            "_________________________________________________________________\n"
          ],
          "name": "stdout"
        }
      ]
    },
    {
      "cell_type": "code",
      "metadata": {
        "id": "Pxk3CkDxLxzF"
      },
      "source": [
        "# Compiling the model\n",
        "AlexNet.compile(loss = keras.losses.categorical_crossentropy, optimizer= 'adam', metrics=['accuracy'])"
      ],
      "execution_count": null,
      "outputs": []
    },
    {
      "cell_type": "code",
      "metadata": {
        "id": "2VkGU2y2M-_N"
      },
      "source": [
        "from keras.callbacks import EarlyStopping\n",
        "es = EarlyStopping(monitor='val_loss', mode='min', verbose=1, patience=3)"
      ],
      "execution_count": null,
      "outputs": []
    },
    {
      "cell_type": "code",
      "metadata": {
        "id": "Iz2u7DnQsZsm"
      },
      "source": [
        "#Defining the parameters\n",
        "batch_size= 100\n",
        "epochs=10\n",
        "learn_rate=.001"
      ],
      "execution_count": null,
      "outputs": []
    },
    {
      "cell_type": "code",
      "metadata": {
        "id": "bg0HSlMV96B0"
      },
      "source": [
        "#Learning Rate Annealer\n",
        "from keras.callbacks import ReduceLROnPlateau\n",
        "lrr= ReduceLROnPlateau(monitor='val_acc',   factor=.01,   patience=3,  min_lr=1e-5) "
      ],
      "execution_count": null,
      "outputs": []
    },
    {
      "cell_type": "code",
      "metadata": {
        "colab": {
          "base_uri": "https://localhost:8080/"
        },
        "id": "FPlph0IWMMRa",
        "outputId": "7d13e570-c628-4bb6-80aa-e0112bb0dfc0"
      },
      "source": [
        "#Training the model\n",
        "AlexNet.fit_generator(train_generator.flow(x_train, y_train, batch_size=batch_size), epochs = epochs, steps_per_epoch = x_train.shape[0]//batch_size, validation_data = val_generator.flow(x_val, y_val, batch_size=batch_size), validation_steps = 250, callbacks = [lrr], verbose=1)"
      ],
      "execution_count": null,
      "outputs": [
        {
          "output_type": "stream",
          "text": [
            "/usr/local/lib/python3.7/dist-packages/tensorflow/python/keras/engine/training.py:1844: UserWarning: `Model.fit_generator` is deprecated and will be removed in a future version. Please use `Model.fit`, which supports generators.\n",
            "  warnings.warn('`Model.fit_generator` is deprecated and '\n"
          ],
          "name": "stderr"
        },
        {
          "output_type": "stream",
          "text": [
            "Epoch 1/10\n",
            "350/350 [==============================] - ETA: 0s - loss: 1.6017 - accuracy: 0.4265WARNING:tensorflow:Your input ran out of data; interrupting training. Make sure that your dataset or generator can generate at least `steps_per_epoch * epochs` batches (in this case, 250 batches). You may need to use the repeat() function when building your dataset.\n",
            "350/350 [==============================] - 586s 2s/step - loss: 1.6017 - accuracy: 0.4265 - val_loss: 1.9346 - val_accuracy: 0.3323\n",
            "WARNING:tensorflow:Learning rate reduction is conditioned on metric `val_acc` which is not available. Available metrics are: loss,accuracy,val_loss,val_accuracy,lr\n",
            "Epoch 2/10\n",
            "350/350 [==============================] - 571s 2s/step - loss: 1.3958 - accuracy: 0.5089\n",
            "WARNING:tensorflow:Learning rate reduction is conditioned on metric `val_acc` which is not available. Available metrics are: loss,accuracy,lr\n",
            "Epoch 3/10\n",
            "350/350 [==============================] - 539s 2s/step - loss: 1.2808 - accuracy: 0.5527\n",
            "WARNING:tensorflow:Learning rate reduction is conditioned on metric `val_acc` which is not available. Available metrics are: loss,accuracy,lr\n",
            "Epoch 4/10\n",
            "350/350 [==============================] - 538s 2s/step - loss: 1.2007 - accuracy: 0.5844\n",
            "WARNING:tensorflow:Learning rate reduction is conditioned on metric `val_acc` which is not available. Available metrics are: loss,accuracy,lr\n",
            "Epoch 5/10\n",
            "350/350 [==============================] - 540s 2s/step - loss: 1.1266 - accuracy: 0.6117\n",
            "WARNING:tensorflow:Learning rate reduction is conditioned on metric `val_acc` which is not available. Available metrics are: loss,accuracy,lr\n",
            "Epoch 6/10\n",
            "350/350 [==============================] - 532s 2s/step - loss: 1.0594 - accuracy: 0.6365\n",
            "WARNING:tensorflow:Learning rate reduction is conditioned on metric `val_acc` which is not available. Available metrics are: loss,accuracy,lr\n",
            "Epoch 7/10\n",
            "350/350 [==============================] - 529s 2s/step - loss: 1.0095 - accuracy: 0.6507\n",
            "WARNING:tensorflow:Learning rate reduction is conditioned on metric `val_acc` which is not available. Available metrics are: loss,accuracy,lr\n",
            "Epoch 8/10\n",
            "350/350 [==============================] - 535s 2s/step - loss: 0.9656 - accuracy: 0.6684\n",
            "WARNING:tensorflow:Learning rate reduction is conditioned on metric `val_acc` which is not available. Available metrics are: loss,accuracy,lr\n",
            "Epoch 9/10\n",
            "350/350 [==============================] - 553s 2s/step - loss: 0.9206 - accuracy: 0.6860\n",
            "WARNING:tensorflow:Learning rate reduction is conditioned on metric `val_acc` which is not available. Available metrics are: loss,accuracy,lr\n",
            "Epoch 10/10\n",
            "350/350 [==============================] - 549s 2s/step - loss: 0.8868 - accuracy: 0.6955\n",
            "WARNING:tensorflow:Learning rate reduction is conditioned on metric `val_acc` which is not available. Available metrics are: loss,accuracy,lr\n"
          ],
          "name": "stdout"
        },
        {
          "output_type": "execute_result",
          "data": {
            "text/plain": [
              "<tensorflow.python.keras.callbacks.History at 0x7f77dd959bd0>"
            ]
          },
          "metadata": {
            "tags": []
          },
          "execution_count": 24
        }
      ]
    },
    {
      "cell_type": "code",
      "metadata": {
        "id": "z5eXy7DLP8dM"
      },
      "source": [
        "AlexNet.save('CNN_CIFAR.h5')"
      ],
      "execution_count": null,
      "outputs": []
    },
    {
      "cell_type": "code",
      "metadata": {
        "colab": {
          "base_uri": "https://localhost:8080/"
        },
        "id": "tE9M5YJDQHkN",
        "outputId": "532bf32f-277b-4598-e1a5-73fcb98b4fb6"
      },
      "source": [
        "from keras.models import Sequential, load_model\n",
        "model = load_model('CNN_CIFAR.h5')\n",
        "model.summary()"
      ],
      "execution_count": null,
      "outputs": [
        {
          "output_type": "stream",
          "text": [
            "Model: \"sequential_1\"\n",
            "_________________________________________________________________\n",
            "Layer (type)                 Output Shape              Param #   \n",
            "=================================================================\n",
            "conv2d_5 (Conv2D)            (None, 8, 8, 96)          34944     \n",
            "_________________________________________________________________\n",
            "batch_normalization_9 (Batch (None, 8, 8, 96)          384       \n",
            "_________________________________________________________________\n",
            "activation_9 (Activation)    (None, 8, 8, 96)          0         \n",
            "_________________________________________________________________\n",
            "max_pooling2d_3 (MaxPooling2 (None, 4, 4, 96)          0         \n",
            "_________________________________________________________________\n",
            "conv2d_6 (Conv2D)            (None, 4, 4, 256)         614656    \n",
            "_________________________________________________________________\n",
            "batch_normalization_10 (Batc (None, 4, 4, 256)         1024      \n",
            "_________________________________________________________________\n",
            "activation_10 (Activation)   (None, 4, 4, 256)         0         \n",
            "_________________________________________________________________\n",
            "max_pooling2d_4 (MaxPooling2 (None, 2, 2, 256)         0         \n",
            "_________________________________________________________________\n",
            "conv2d_7 (Conv2D)            (None, 2, 2, 384)         885120    \n",
            "_________________________________________________________________\n",
            "batch_normalization_11 (Batc (None, 2, 2, 384)         1536      \n",
            "_________________________________________________________________\n",
            "activation_11 (Activation)   (None, 2, 2, 384)         0         \n",
            "_________________________________________________________________\n",
            "conv2d_8 (Conv2D)            (None, 2, 2, 384)         1327488   \n",
            "_________________________________________________________________\n",
            "batch_normalization_12 (Batc (None, 2, 2, 384)         1536      \n",
            "_________________________________________________________________\n",
            "activation_12 (Activation)   (None, 2, 2, 384)         0         \n",
            "_________________________________________________________________\n",
            "conv2d_9 (Conv2D)            (None, 2, 2, 256)         884992    \n",
            "_________________________________________________________________\n",
            "batch_normalization_13 (Batc (None, 2, 2, 256)         1024      \n",
            "_________________________________________________________________\n",
            "activation_13 (Activation)   (None, 2, 2, 256)         0         \n",
            "_________________________________________________________________\n",
            "max_pooling2d_5 (MaxPooling2 (None, 1, 1, 256)         0         \n",
            "_________________________________________________________________\n",
            "flatten_1 (Flatten)          (None, 256)               0         \n",
            "_________________________________________________________________\n",
            "dense_4 (Dense)              (None, 4096)              1052672   \n",
            "_________________________________________________________________\n",
            "batch_normalization_14 (Batc (None, 4096)              16384     \n",
            "_________________________________________________________________\n",
            "activation_14 (Activation)   (None, 4096)              0         \n",
            "_________________________________________________________________\n",
            "dropout_3 (Dropout)          (None, 4096)              0         \n",
            "_________________________________________________________________\n",
            "dense_5 (Dense)              (None, 4096)              16781312  \n",
            "_________________________________________________________________\n",
            "batch_normalization_15 (Batc (None, 4096)              16384     \n",
            "_________________________________________________________________\n",
            "activation_15 (Activation)   (None, 4096)              0         \n",
            "_________________________________________________________________\n",
            "dropout_4 (Dropout)          (None, 4096)              0         \n",
            "_________________________________________________________________\n",
            "dense_6 (Dense)              (None, 1000)              4097000   \n",
            "_________________________________________________________________\n",
            "batch_normalization_16 (Batc (None, 1000)              4000      \n",
            "_________________________________________________________________\n",
            "activation_16 (Activation)   (None, 1000)              0         \n",
            "_________________________________________________________________\n",
            "dropout_5 (Dropout)          (None, 1000)              0         \n",
            "_________________________________________________________________\n",
            "dense_7 (Dense)              (None, 10)                10010     \n",
            "_________________________________________________________________\n",
            "batch_normalization_17 (Batc (None, 10)                40        \n",
            "_________________________________________________________________\n",
            "activation_17 (Activation)   (None, 10)                0         \n",
            "=================================================================\n",
            "Total params: 25,730,506\n",
            "Trainable params: 25,709,350\n",
            "Non-trainable params: 21,156\n",
            "_________________________________________________________________\n"
          ],
          "name": "stdout"
        }
      ]
    },
    {
      "cell_type": "markdown",
      "metadata": {
        "id": "Ev1_mcznot0p"
      },
      "source": [
        "# Freezing all the Top layers"
      ]
    },
    {
      "cell_type": "code",
      "metadata": {
        "colab": {
          "base_uri": "https://localhost:8080/"
        },
        "id": "a9W22ricQVMA",
        "outputId": "e484a576-8d5f-4870-b510-5592a86099e2"
      },
      "source": [
        "# Freeze all the layers\n",
        "for layer in model.layers[:]:\n",
        "    layer.trainable = False\n",
        "\n",
        "# Check the trainable status of the individual layers\n",
        "for layer in model.layers:\n",
        "    print(layer, layer.trainable)"
      ],
      "execution_count": null,
      "outputs": [
        {
          "output_type": "stream",
          "text": [
            "<tensorflow.python.keras.layers.convolutional.Conv2D object at 0x7f77dd94ff90> False\n",
            "<tensorflow.python.keras.layers.normalization_v2.BatchNormalization object at 0x7f77dad6fd50> False\n",
            "<tensorflow.python.keras.layers.core.Activation object at 0x7f77dd959310> False\n",
            "<tensorflow.python.keras.layers.pooling.MaxPooling2D object at 0x7f77dad93310> False\n",
            "<tensorflow.python.keras.layers.convolutional.Conv2D object at 0x7f77dc78ca10> False\n",
            "<tensorflow.python.keras.layers.normalization_v2.BatchNormalization object at 0x7f77dd9488d0> False\n",
            "<tensorflow.python.keras.layers.core.Activation object at 0x7f77dd951450> False\n",
            "<tensorflow.python.keras.layers.pooling.MaxPooling2D object at 0x7f77dc77ad90> False\n",
            "<tensorflow.python.keras.layers.convolutional.Conv2D object at 0x7f77dace5c90> False\n",
            "<tensorflow.python.keras.layers.normalization_v2.BatchNormalization object at 0x7f77dace54d0> False\n",
            "<tensorflow.python.keras.layers.core.Activation object at 0x7f77dace0b10> False\n",
            "<tensorflow.python.keras.layers.convolutional.Conv2D object at 0x7f77dacf6410> False\n",
            "<tensorflow.python.keras.layers.normalization_v2.BatchNormalization object at 0x7f77dad00790> False\n",
            "<tensorflow.python.keras.layers.core.Activation object at 0x7f77dacf9e10> False\n",
            "<tensorflow.python.keras.layers.convolutional.Conv2D object at 0x7f77dd959290> False\n",
            "<tensorflow.python.keras.layers.normalization_v2.BatchNormalization object at 0x7f77dad93cd0> False\n",
            "<tensorflow.python.keras.layers.core.Activation object at 0x7f77dad06f90> False\n",
            "<tensorflow.python.keras.layers.pooling.MaxPooling2D object at 0x7f77dad10e50> False\n",
            "<tensorflow.python.keras.layers.core.Flatten object at 0x7f77dace0d50> False\n",
            "<tensorflow.python.keras.layers.core.Dense object at 0x7f77dac9dcd0> False\n",
            "<tensorflow.python.keras.layers.normalization_v2.BatchNormalization object at 0x7f77dad06350> False\n",
            "<tensorflow.python.keras.layers.core.Activation object at 0x7f77dad4ec90> False\n",
            "<tensorflow.python.keras.layers.core.Dropout object at 0x7f77dad16110> False\n",
            "<tensorflow.python.keras.layers.core.Dense object at 0x7f77dac9db10> False\n",
            "<tensorflow.python.keras.layers.normalization_v2.BatchNormalization object at 0x7f77dac9d110> False\n",
            "<tensorflow.python.keras.layers.core.Activation object at 0x7f77daca5250> False\n",
            "<tensorflow.python.keras.layers.core.Dropout object at 0x7f77dacbbc90> False\n",
            "<tensorflow.python.keras.layers.core.Dense object at 0x7f77dfbcb150> False\n",
            "<tensorflow.python.keras.layers.normalization_v2.BatchNormalization object at 0x7f77daca1110> False\n",
            "<tensorflow.python.keras.layers.core.Activation object at 0x7f77dad10e90> False\n",
            "<tensorflow.python.keras.layers.core.Dropout object at 0x7f77dad4e990> False\n",
            "<tensorflow.python.keras.layers.core.Dense object at 0x7f77dacc4750> False\n",
            "<tensorflow.python.keras.layers.normalization_v2.BatchNormalization object at 0x7f77dacbb810> False\n",
            "<tensorflow.python.keras.layers.core.Activation object at 0x7f77dacd0190> False\n"
          ],
          "name": "stdout"
        }
      ]
    },
    {
      "cell_type": "markdown",
      "metadata": {
        "id": "KvEuahCApHAN"
      },
      "source": [
        "# Fine Tuning the Dense Layer"
      ]
    },
    {
      "cell_type": "code",
      "metadata": {
        "colab": {
          "base_uri": "https://localhost:8080/"
        },
        "id": "FDpzNea5QgZH",
        "outputId": "1d027dd4-4b71-48ba-9e56-3244a973c3c4"
      },
      "source": [
        "import keras\n",
        "from keras.models import Sequential\n",
        "from keras.layers import Dense, Activation, Dropout, Flatten, Conv2D, MaxPooling2D\n",
        "from keras.layers.normalization import BatchNormalization\n",
        "import numpy as np\n",
        "\n",
        "np.random.seed(1000)\n",
        "# Create the model\n",
        "model1 = Sequential()\n",
        "\n",
        "# Add the vgg convolutional base model\n",
        "model1.add(model)\n",
        "\n",
        "# Add new layers\n",
        "model1.add(Flatten(input_shape=model.output_shape[1:]))\n",
        "model1.add(Dense(120, activation ='relu'))\n",
        "model1.add(Dense(84, activation ='relu'))\n",
        "model1.add(Dense(10, activation ='softmax'))\n",
        "model1.compile(loss = keras.losses.categorical_crossentropy,\n",
        "              optimizer = keras.optimizers.SGD(lr = 0.01),\n",
        "              metrics =['accuracy'])\n",
        "# Show a summary of the model. Check the number of trainable parameters\n",
        "model1.summary()"
      ],
      "execution_count": null,
      "outputs": [
        {
          "output_type": "stream",
          "text": [
            "Model: \"sequential_1\"\n",
            "_________________________________________________________________\n",
            "Layer (type)                 Output Shape              Param #   \n",
            "=================================================================\n",
            "model (Functional)           (None, 1)                 20863529  \n",
            "_________________________________________________________________\n",
            "flatten_1 (Flatten)          (None, 1)                 0         \n",
            "_________________________________________________________________\n",
            "dense_5 (Dense)              (None, 120)               240       \n",
            "_________________________________________________________________\n",
            "dense_6 (Dense)              (None, 84)                10164     \n",
            "_________________________________________________________________\n",
            "dense_7 (Dense)              (None, 10)                850       \n",
            "=================================================================\n",
            "Total params: 20,874,783\n",
            "Trainable params: 13,303\n",
            "Non-trainable params: 20,861,480\n",
            "_________________________________________________________________\n"
          ],
          "name": "stdout"
        }
      ]
    },
    {
      "cell_type": "code",
      "metadata": {
        "id": "9tjGqK-0VaHO"
      },
      "source": [
        "model1.compile(loss='categorical_crossentropy', \n",
        "     optimizer='adam',\n",
        "     metrics=['acc'])"
      ],
      "execution_count": null,
      "outputs": []
    },
    {
      "cell_type": "code",
      "metadata": {
        "id": "slciyLNjREol"
      },
      "source": [
        "from keras.callbacks import EarlyStopping\n",
        "es = EarlyStopping(monitor='val_loss', mode='min', verbose=1, patience=3)"
      ],
      "execution_count": null,
      "outputs": []
    },
    {
      "cell_type": "code",
      "metadata": {
        "colab": {
          "base_uri": "https://localhost:8080/"
        },
        "id": "BtjqYJCkRoLl",
        "outputId": "6efa8126-75f5-4d31-f7bb-a0312482ba91"
      },
      "source": [
        "#Training the model\n",
        "model1.fit_generator(train_generator.flow(x_train, y_train, batch_size=batch_size), epochs = epochs, steps_per_epoch = x_train.shape[0]//batch_size, validation_data = val_generator.flow(x_val, y_val, batch_size=batch_size), validation_steps = 250, callbacks = [lrr], verbose=1)"
      ],
      "execution_count": null,
      "outputs": [
        {
          "output_type": "stream",
          "text": [
            "/usr/local/lib/python3.7/dist-packages/tensorflow/python/keras/engine/training.py:1844: UserWarning: `Model.fit_generator` is deprecated and will be removed in a future version. Please use `Model.fit`, which supports generators.\n",
            "  warnings.warn('`Model.fit_generator` is deprecated and '\n"
          ],
          "name": "stderr"
        },
        {
          "output_type": "stream",
          "text": [
            "Epoch 1/10\n",
            "350/350 [==============================] - ETA: 0s - loss: 1.5949 - acc: 0.4949WARNING:tensorflow:Your input ran out of data; interrupting training. Make sure that your dataset or generator can generate at least `steps_per_epoch * epochs` batches (in this case, 250 batches). You may need to use the repeat() function when building your dataset.\n",
            "350/350 [==============================] - 107s 305ms/step - loss: 1.5940 - acc: 0.4951 - val_loss: 1.1833 - val_acc: 0.5897\n",
            "Epoch 2/10\n",
            "350/350 [==============================] - 76s 218ms/step - loss: 1.0226 - acc: 0.6493\n",
            "WARNING:tensorflow:Learning rate reduction is conditioned on metric `val_acc` which is not available. Available metrics are: loss,acc,lr\n",
            "Epoch 3/10\n",
            "350/350 [==============================] - 76s 218ms/step - loss: 0.9663 - acc: 0.6710\n",
            "WARNING:tensorflow:Learning rate reduction is conditioned on metric `val_acc` which is not available. Available metrics are: loss,acc,lr\n",
            "Epoch 4/10\n",
            "350/350 [==============================] - 76s 218ms/step - loss: 0.9391 - acc: 0.6832\n",
            "WARNING:tensorflow:Learning rate reduction is conditioned on metric `val_acc` which is not available. Available metrics are: loss,acc,lr\n",
            "Epoch 5/10\n",
            "350/350 [==============================] - 76s 217ms/step - loss: 0.9117 - acc: 0.6915\n",
            "WARNING:tensorflow:Learning rate reduction is conditioned on metric `val_acc` which is not available. Available metrics are: loss,acc,lr\n",
            "Epoch 6/10\n",
            "350/350 [==============================] - 77s 219ms/step - loss: 0.8961 - acc: 0.7008\n",
            "WARNING:tensorflow:Learning rate reduction is conditioned on metric `val_acc` which is not available. Available metrics are: loss,acc,lr\n",
            "Epoch 7/10\n",
            "350/350 [==============================] - 76s 217ms/step - loss: 0.8872 - acc: 0.7025\n",
            "WARNING:tensorflow:Learning rate reduction is conditioned on metric `val_acc` which is not available. Available metrics are: loss,acc,lr\n",
            "Epoch 8/10\n",
            "350/350 [==============================] - 76s 216ms/step - loss: 0.8872 - acc: 0.7002\n",
            "WARNING:tensorflow:Learning rate reduction is conditioned on metric `val_acc` which is not available. Available metrics are: loss,acc,lr\n",
            "Epoch 9/10\n",
            "350/350 [==============================] - 79s 224ms/step - loss: 0.8714 - acc: 0.7058\n",
            "WARNING:tensorflow:Learning rate reduction is conditioned on metric `val_acc` which is not available. Available metrics are: loss,acc,lr\n",
            "Epoch 10/10\n",
            "350/350 [==============================] - 76s 217ms/step - loss: 0.8740 - acc: 0.7065\n",
            "WARNING:tensorflow:Learning rate reduction is conditioned on metric `val_acc` which is not available. Available metrics are: loss,acc,lr\n"
          ],
          "name": "stdout"
        },
        {
          "output_type": "execute_result",
          "data": {
            "text/plain": [
              "<tensorflow.python.keras.callbacks.History at 0x7f77dabd93d0>"
            ]
          },
          "metadata": {
            "tags": []
          },
          "execution_count": 32
        }
      ]
    },
    {
      "cell_type": "markdown",
      "metadata": {
        "id": "L-yqsLVloLGp"
      },
      "source": [
        "# Fine-Tuning for the small dataset and similar to original dataset"
      ]
    },
    {
      "cell_type": "code",
      "metadata": {
        "colab": {
          "base_uri": "https://localhost:8080/"
        },
        "id": "lYhxFAFKQQT0",
        "outputId": "8e11bf9e-429c-4bd2-d704-08235f18a372"
      },
      "source": [
        "import tensorflow_datasets as tfds\n",
        "import numpy as np\n",
        "import tensorflow as tf\n",
        "from tensorflow import keras\n",
        "tfds.disable_progress_bar()\n",
        "\n",
        "train_ds, validation_ds, test_ds = tfds.load(\n",
        "    \"cats_vs_dogs\",\n",
        "    # Reserve 10% for validation and 10% for test\n",
        "    split=[\"train[:10%]\", \"train[10%:20%]\", \"train[10%:20%]\"],\n",
        "    as_supervised=True,  # Include labels\n",
        ")\n",
        "\n",
        "print(\"Number of training samples: %d\" % tf.data.experimental.cardinality(train_ds))\n",
        "print(\n",
        "    \"Number of validation samples: %d\" % tf.data.experimental.cardinality(validation_ds)\n",
        ")\n",
        "print(\"Number of test samples: %d\" % tf.data.experimental.cardinality(test_ds))"
      ],
      "execution_count": 11,
      "outputs": [
        {
          "output_type": "stream",
          "text": [
            "Number of training samples: 2326\n",
            "Number of validation samples: 2326\n",
            "Number of test samples: 2326\n"
          ],
          "name": "stdout"
        }
      ]
    },
    {
      "cell_type": "code",
      "metadata": {
        "id": "1mpf3e6ZcG8v"
      },
      "source": [
        "size = (224, 224)\n",
        "\n",
        "train_ds = train_ds.map(lambda x, y: (tf.image.resize(x, size), y))\n",
        "validation_ds = validation_ds.map(lambda x, y: (tf.image.resize(x, size), y))\n",
        "test_ds = test_ds.map(lambda x, y: (tf.image.resize(x, size), y))"
      ],
      "execution_count": 12,
      "outputs": []
    },
    {
      "cell_type": "code",
      "metadata": {
        "id": "Xjah3eHvcv2V"
      },
      "source": [
        "batch_size = 32\n",
        "\n",
        "train_ds = train_ds.cache().batch(batch_size).prefetch(buffer_size=10)\n",
        "validation_ds = validation_ds.cache().batch(batch_size).prefetch(buffer_size=10)\n",
        "test_ds = test_ds.cache().batch(batch_size).prefetch(buffer_size=10)"
      ],
      "execution_count": 14,
      "outputs": []
    },
    {
      "cell_type": "code",
      "metadata": {
        "id": "e_MfujpadhI7"
      },
      "source": [
        "x_train = tf.pad(x_train, [[0, 0], [2,2], [2,2]])/255\n",
        "x_test = tf.pad(x_test, [[0, 0], [2,2], [2,2]])/255\n",
        "x_train = tf.expand_dims(x_train, axis=3, name=None)\n",
        "x_test = tf.expand_dims(x_test, axis=3, name=None)\n",
        "x_train = tf.repeat(x_train, 3, axis=3)\n",
        "x_test = tf.repeat(x_test, 3, axis=3)\n",
        "x_val = x_train[-2000:,:,:,:]\n",
        "y_val = y_train[-2000:]\n",
        "x_train = x_train[:-2000,:,:,:]\n",
        "y_train = y_train[:-2000]"
      ],
      "execution_count": 17,
      "outputs": []
    },
    {
      "cell_type": "code",
      "metadata": {
        "id": "qo6lrrfHghLU",
        "colab": {
          "base_uri": "https://localhost:8080/"
        },
        "outputId": "6be53cd4-268c-489a-ad0d-6821216195e6"
      },
      "source": [
        "from tensorflow.keras import datasets, layers, models, losses\n",
        "model = models.Sequential()\n",
        "model.add(layers.experimental.preprocessing.Resizing(224, 224, interpolation=\"bilinear\", input_shape=x_train.shape[1:]))\n",
        "model.add(layers.Conv2D(96, 11, strides=4, padding='same'))\n",
        "model.add(layers.Lambda(tf.nn.local_response_normalization))\n",
        "model.add(layers.Activation('relu'))\n",
        "model.add(layers.MaxPooling2D(3, strides=2))\n",
        "model.add(layers.Conv2D(256, 5, strides=4, padding='same'))\n",
        "model.add(layers.Lambda(tf.nn.local_response_normalization))\n",
        "model.add(layers.Activation('relu'))\n",
        "model.add(layers.MaxPooling2D(3, strides=2))\n",
        "model.add(layers.Conv2D(384, 3, strides=4, padding='same'))\n",
        "model.add(layers.Activation('relu'))\n",
        "model.add(layers.Conv2D(384, 3, strides=4, padding='same'))\n",
        "model.add(layers.Activation('relu'))\n",
        "model.add(layers.Conv2D(256, 3, strides=4, padding='same'))\n",
        "model.add(layers.Activation('relu'))\n",
        "model.add(layers.Flatten())\n",
        "model.add(layers.Dense(4096, activation='relu'))\n",
        "model.add(layers.Dropout(0.5))\n",
        "model.add(layers.Dense(4096, activation='relu'))\n",
        "model.add(layers.Dropout(0.5))\n",
        "model.add(layers.Dense(10, activation='softmax'))\n",
        "model.summary()"
      ],
      "execution_count": 18,
      "outputs": [
        {
          "output_type": "stream",
          "text": [
            "Model: \"sequential_1\"\n",
            "_________________________________________________________________\n",
            "Layer (type)                 Output Shape              Param #   \n",
            "=================================================================\n",
            "resizing_1 (Resizing)        (None, 224, 224, 3)       0         \n",
            "_________________________________________________________________\n",
            "conv2d_1 (Conv2D)            (None, 56, 56, 96)        34944     \n",
            "_________________________________________________________________\n",
            "lambda (Lambda)              (None, 56, 56, 96)        0         \n",
            "_________________________________________________________________\n",
            "activation (Activation)      (None, 56, 56, 96)        0         \n",
            "_________________________________________________________________\n",
            "max_pooling2d (MaxPooling2D) (None, 27, 27, 96)        0         \n",
            "_________________________________________________________________\n",
            "conv2d_2 (Conv2D)            (None, 7, 7, 256)         614656    \n",
            "_________________________________________________________________\n",
            "lambda_1 (Lambda)            (None, 7, 7, 256)         0         \n",
            "_________________________________________________________________\n",
            "activation_1 (Activation)    (None, 7, 7, 256)         0         \n",
            "_________________________________________________________________\n",
            "max_pooling2d_1 (MaxPooling2 (None, 3, 3, 256)         0         \n",
            "_________________________________________________________________\n",
            "conv2d_3 (Conv2D)            (None, 1, 1, 384)         885120    \n",
            "_________________________________________________________________\n",
            "activation_2 (Activation)    (None, 1, 1, 384)         0         \n",
            "_________________________________________________________________\n",
            "conv2d_4 (Conv2D)            (None, 1, 1, 384)         1327488   \n",
            "_________________________________________________________________\n",
            "activation_3 (Activation)    (None, 1, 1, 384)         0         \n",
            "_________________________________________________________________\n",
            "conv2d_5 (Conv2D)            (None, 1, 1, 256)         884992    \n",
            "_________________________________________________________________\n",
            "activation_4 (Activation)    (None, 1, 1, 256)         0         \n",
            "_________________________________________________________________\n",
            "flatten (Flatten)            (None, 256)               0         \n",
            "_________________________________________________________________\n",
            "dense (Dense)                (None, 4096)              1052672   \n",
            "_________________________________________________________________\n",
            "dropout (Dropout)            (None, 4096)              0         \n",
            "_________________________________________________________________\n",
            "dense_1 (Dense)              (None, 4096)              16781312  \n",
            "_________________________________________________________________\n",
            "dropout_1 (Dropout)          (None, 4096)              0         \n",
            "_________________________________________________________________\n",
            "dense_2 (Dense)              (None, 10)                40970     \n",
            "=================================================================\n",
            "Total params: 21,622,154\n",
            "Trainable params: 21,622,154\n",
            "Non-trainable params: 0\n",
            "_________________________________________________________________\n"
          ],
          "name": "stdout"
        }
      ]
    },
    {
      "cell_type": "code",
      "metadata": {
        "colab": {
          "base_uri": "https://localhost:8080/"
        },
        "id": "iu-PZLiGdmBh",
        "outputId": "8aa32573-9fdd-47b5-fd6f-98c05c85a973"
      },
      "source": [
        "model.compile(optimizer='adam', loss=losses.sparse_categorical_crossentropy, metrics=['accuracy'])\n",
        "history = model.fit(x_train, y_train, batch_size=64, epochs=10, validation_data=(x_val, y_val))"
      ],
      "execution_count": 20,
      "outputs": [
        {
          "output_type": "stream",
          "text": [
            "Epoch 1/10\n",
            "907/907 [==============================] - 188s 206ms/step - loss: 0.9138 - accuracy: 0.6075 - val_loss: 0.3385 - val_accuracy: 0.8790\n",
            "Epoch 2/10\n",
            "907/907 [==============================] - 187s 206ms/step - loss: 0.3449 - accuracy: 0.8733 - val_loss: 0.2902 - val_accuracy: 0.8935\n",
            "Epoch 3/10\n",
            "907/907 [==============================] - 186s 206ms/step - loss: 0.2878 - accuracy: 0.8969 - val_loss: 0.2607 - val_accuracy: 0.9025\n",
            "Epoch 4/10\n",
            "907/907 [==============================] - 187s 206ms/step - loss: 0.2555 - accuracy: 0.9070 - val_loss: 0.3275 - val_accuracy: 0.8900\n",
            "Epoch 5/10\n",
            "907/907 [==============================] - 187s 206ms/step - loss: 0.2485 - accuracy: 0.9104 - val_loss: 0.2662 - val_accuracy: 0.9050\n",
            "Epoch 6/10\n",
            "907/907 [==============================] - 188s 208ms/step - loss: 0.2212 - accuracy: 0.9186 - val_loss: 0.2804 - val_accuracy: 0.9095\n",
            "Epoch 7/10\n",
            "907/907 [==============================] - 187s 206ms/step - loss: 0.1986 - accuracy: 0.9275 - val_loss: 0.2468 - val_accuracy: 0.9145\n",
            "Epoch 8/10\n",
            "907/907 [==============================] - 187s 206ms/step - loss: 0.2030 - accuracy: 0.9282 - val_loss: 0.2756 - val_accuracy: 0.9130\n",
            "Epoch 9/10\n",
            "907/907 [==============================] - 187s 206ms/step - loss: 0.1784 - accuracy: 0.9360 - val_loss: 0.2815 - val_accuracy: 0.9005\n",
            "Epoch 10/10\n",
            "907/907 [==============================] - 188s 208ms/step - loss: 0.1782 - accuracy: 0.9370 - val_loss: 0.2347 - val_accuracy: 0.9155\n"
          ],
          "name": "stdout"
        }
      ]
    },
    {
      "cell_type": "code",
      "metadata": {
        "colab": {
          "base_uri": "https://localhost:8080/"
        },
        "id": "pq6Gc8INltqc",
        "outputId": "4de002f4-4a30-4e54-c176-04e1d4a4740c"
      },
      "source": [
        "# Freeze all the layers\n",
        "for layer in model.layers[:]:\n",
        "    layer.trainable = False\n",
        "\n",
        "# Check the trainable status of the individual layers\n",
        "for layer in model.layers:\n",
        "    print(layer, layer.trainable)"
      ],
      "execution_count": 21,
      "outputs": [
        {
          "output_type": "stream",
          "text": [
            "<tensorflow.python.keras.layers.preprocessing.image_preprocessing.Resizing object at 0x7fbb8bb38bd0> False\n",
            "<tensorflow.python.keras.layers.convolutional.Conv2D object at 0x7fbb8be9a650> False\n",
            "<tensorflow.python.keras.layers.core.Lambda object at 0x7fbb8bb50e90> False\n",
            "<tensorflow.python.keras.layers.core.Activation object at 0x7fbb8bb25f10> False\n",
            "<tensorflow.python.keras.layers.pooling.MaxPooling2D object at 0x7fbb8bb25e90> False\n",
            "<tensorflow.python.keras.layers.convolutional.Conv2D object at 0x7fbb8cbc4e50> False\n",
            "<tensorflow.python.keras.layers.core.Lambda object at 0x7fbb8cbdc590> False\n",
            "<tensorflow.python.keras.layers.core.Activation object at 0x7fbb8cbd7690> False\n",
            "<tensorflow.python.keras.layers.pooling.MaxPooling2D object at 0x7fbb8bbc56d0> False\n",
            "<tensorflow.python.keras.layers.convolutional.Conv2D object at 0x7fbb8cba4e10> False\n",
            "<tensorflow.python.keras.layers.core.Activation object at 0x7fbb8bb4b750> False\n",
            "<tensorflow.python.keras.layers.convolutional.Conv2D object at 0x7fbb8bb50650> False\n",
            "<tensorflow.python.keras.layers.core.Activation object at 0x7fbb8cbad610> False\n",
            "<tensorflow.python.keras.layers.convolutional.Conv2D object at 0x7fbb8cbacf50> False\n",
            "<tensorflow.python.keras.layers.core.Activation object at 0x7fbb8be9bc10> False\n",
            "<tensorflow.python.keras.layers.core.Flatten object at 0x7fbb8cbdcd90> False\n",
            "<tensorflow.python.keras.layers.core.Dense object at 0x7fbb8c662dd0> False\n",
            "<tensorflow.python.keras.layers.core.Dropout object at 0x7fbb8cbc4890> False\n",
            "<tensorflow.python.keras.layers.core.Dense object at 0x7fbb8cbb45d0> False\n",
            "<tensorflow.python.keras.layers.core.Dropout object at 0x7fbb8cbb3650> False\n",
            "<tensorflow.python.keras.layers.core.Dense object at 0x7fbb8cbb3890> False\n"
          ],
          "name": "stdout"
        }
      ]
    },
    {
      "cell_type": "code",
      "metadata": {
        "colab": {
          "base_uri": "https://localhost:8080/"
        },
        "id": "1uebxwL2l9XC",
        "outputId": "80c49790-dc9c-4c77-c34f-d57fc26cad30"
      },
      "source": [
        "import keras\n",
        "from keras.models import Sequential\n",
        "from keras.layers import Dense, Activation, Dropout, Flatten, Conv2D, MaxPooling2D\n",
        "from keras.layers.normalization import BatchNormalization\n",
        "import numpy as np\n",
        "\n",
        "np.random.seed(1000)\n",
        "# Create the model\n",
        "model1 = Sequential()\n",
        "\n",
        "# Add the vgg convolutional base model\n",
        "model1.add(model)\n",
        "\n",
        "# Add new layers\n",
        "model1.add(Flatten(input_shape=model.output_shape[1:]))\n",
        "model1.add(Dense(120, activation ='relu'))\n",
        "model1.add(Dense(84, activation ='relu'))\n",
        "model1.add(Dense(10, activation ='softmax'))\n",
        "model1.compile(loss = keras.losses.categorical_crossentropy,\n",
        "              optimizer = keras.optimizers.SGD(lr = 0.01),\n",
        "              metrics =['accuracy'])\n",
        "# Show a summary of the model. Check the number of trainable parameters\n",
        "model1.summary()"
      ],
      "execution_count": 22,
      "outputs": [
        {
          "output_type": "stream",
          "text": [
            "Model: \"sequential_2\"\n",
            "_________________________________________________________________\n",
            "Layer (type)                 Output Shape              Param #   \n",
            "=================================================================\n",
            "sequential_1 (Sequential)    (None, 10)                21622154  \n",
            "_________________________________________________________________\n",
            "flatten_1 (Flatten)          (None, 10)                0         \n",
            "_________________________________________________________________\n",
            "dense_3 (Dense)              (None, 120)               1320      \n",
            "_________________________________________________________________\n",
            "dense_4 (Dense)              (None, 84)                10164     \n",
            "_________________________________________________________________\n",
            "dense_5 (Dense)              (None, 10)                850       \n",
            "=================================================================\n",
            "Total params: 21,634,488\n",
            "Trainable params: 12,334\n",
            "Non-trainable params: 21,622,154\n",
            "_________________________________________________________________\n"
          ],
          "name": "stdout"
        }
      ]
    },
    {
      "cell_type": "code",
      "metadata": {
        "colab": {
          "base_uri": "https://localhost:8080/"
        },
        "id": "KuUwiJfHmIwe",
        "outputId": "0ae40e8f-db3b-4489-9dbc-f910ac0a9b6f"
      },
      "source": [
        "model1.compile(optimizer='adam', loss=losses.sparse_categorical_crossentropy, metrics=['accuracy'])\n",
        "history = model1.fit(x_train, y_train, batch_size=64, epochs=10, validation_data=(x_val, y_val))"
      ],
      "execution_count": 23,
      "outputs": [
        {
          "output_type": "stream",
          "text": [
            "Epoch 1/10\n",
            "907/907 [==============================] - 79s 86ms/step - loss: 0.5684 - accuracy: 0.9199 - val_loss: 0.2664 - val_accuracy: 0.9250\n",
            "Epoch 2/10\n",
            "907/907 [==============================] - 78s 86ms/step - loss: 0.1536 - accuracy: 0.9500 - val_loss: 0.2642 - val_accuracy: 0.9235\n",
            "Epoch 3/10\n",
            "907/907 [==============================] - 79s 87ms/step - loss: 0.1514 - accuracy: 0.9493 - val_loss: 0.2644 - val_accuracy: 0.9230\n",
            "Epoch 4/10\n",
            "907/907 [==============================] - 79s 87ms/step - loss: 0.1459 - accuracy: 0.9504 - val_loss: 0.2696 - val_accuracy: 0.9225\n",
            "Epoch 5/10\n",
            "907/907 [==============================] - 78s 86ms/step - loss: 0.1453 - accuracy: 0.9503 - val_loss: 0.2522 - val_accuracy: 0.9225\n",
            "Epoch 6/10\n",
            "907/907 [==============================] - 78s 86ms/step - loss: 0.1431 - accuracy: 0.9513 - val_loss: 0.2547 - val_accuracy: 0.9250\n",
            "Epoch 7/10\n",
            "907/907 [==============================] - 78s 86ms/step - loss: 0.1461 - accuracy: 0.9492 - val_loss: 0.2510 - val_accuracy: 0.9235\n",
            "Epoch 8/10\n",
            "907/907 [==============================] - 78s 86ms/step - loss: 0.1386 - accuracy: 0.9509 - val_loss: 0.2504 - val_accuracy: 0.9225\n",
            "Epoch 9/10\n",
            "907/907 [==============================] - 78s 86ms/step - loss: 0.1369 - accuracy: 0.9515 - val_loss: 0.2461 - val_accuracy: 0.9240\n",
            "Epoch 10/10\n",
            "907/907 [==============================] - 78s 86ms/step - loss: 0.1373 - accuracy: 0.9517 - val_loss: 0.2441 - val_accuracy: 0.9240\n"
          ],
          "name": "stdout"
        }
      ]
    }
  ]
}